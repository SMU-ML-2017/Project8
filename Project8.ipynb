{
 "cells": [
  {
   "cell_type": "code",
   "execution_count": 1,
   "metadata": {},
   "outputs": [
    {
     "name": "stderr",
     "output_type": "stream",
     "text": [
      "/Users/jake.rowland/.local/share/virtualenvs/Project8-tUo1UsQl/lib/python3.6/importlib/_bootstrap.py:219: RuntimeWarning: compiletime version 3.5 of module 'tensorflow.python.framework.fast_tensor_util' does not match runtime version 3.6\n",
      "  return f(*args, **kwds)\n"
     ]
    }
   ],
   "source": [
    "import numpy as np, pandas as pd, tensorflow as tf"
   ]
  },
  {
   "cell_type": "markdown",
   "metadata": {},
   "source": [
    "# Trump Tweets"
   ]
  },
  {
   "cell_type": "code",
   "execution_count": 4,
   "metadata": {},
   "outputs": [
    {
     "name": "stdout",
     "output_type": "stream",
     "text": [
      "<class 'pandas.core.frame.DataFrame'>\n",
      "RangeIndex: 29695 entries, 0 to 29694\n",
      "Data columns (total 7 columns):\n",
      "source            29695 non-null object\n",
      "text              29694 non-null object\n",
      "created_at        29691 non-null object\n",
      "retweet_count     29691 non-null float64\n",
      "favorite_count    29691 non-null object\n",
      "is_retweet        29691 non-null object\n",
      "id_str            29688 non-null float64\n",
      "dtypes: float64(2), object(5)\n",
      "memory usage: 1.6+ MB\n"
     ]
    }
   ],
   "source": [
    "## Dataset from http://www.trumptwitterarchive.com/\n",
    "tweets = pd.read_csv('data/trump_tweets.csv')\n",
    "tweets.info()"
   ]
  },
  {
   "cell_type": "code",
   "execution_count": 5,
   "metadata": {},
   "outputs": [
    {
     "data": {
      "text/html": [
       "<div>\n",
       "<style scoped>\n",
       "    .dataframe tbody tr th:only-of-type {\n",
       "        vertical-align: middle;\n",
       "    }\n",
       "\n",
       "    .dataframe tbody tr th {\n",
       "        vertical-align: top;\n",
       "    }\n",
       "\n",
       "    .dataframe thead th {\n",
       "        text-align: right;\n",
       "    }\n",
       "</style>\n",
       "<table border=\"1\" class=\"dataframe\">\n",
       "  <thead>\n",
       "    <tr style=\"text-align: right;\">\n",
       "      <th></th>\n",
       "      <th>source</th>\n",
       "      <th>text</th>\n",
       "      <th>created_at</th>\n",
       "      <th>retweet_count</th>\n",
       "      <th>favorite_count</th>\n",
       "      <th>is_retweet</th>\n",
       "      <th>id_str</th>\n",
       "    </tr>\n",
       "  </thead>\n",
       "  <tbody>\n",
       "    <tr>\n",
       "      <th>0</th>\n",
       "      <td>Twitter for iPhone</td>\n",
       "      <td>....And it will get even better with Tax Cuts!...</td>\n",
       "      <td>11-23-2017 02:06:57</td>\n",
       "      <td>2625.0</td>\n",
       "      <td>11950</td>\n",
       "      <td>false</td>\n",
       "      <td>9.335172e+17</td>\n",
       "    </tr>\n",
       "    <tr>\n",
       "      <th>1</th>\n",
       "      <td>Twitter for iPhone</td>\n",
       "      <td>I have long given the order to help Argentina ...</td>\n",
       "      <td>11-22-2017 21:32:18</td>\n",
       "      <td>15740.0</td>\n",
       "      <td>68777</td>\n",
       "      <td>false</td>\n",
       "      <td>9.334481e+17</td>\n",
       "    </tr>\n",
       "    <tr>\n",
       "      <th>2</th>\n",
       "      <td>Twitter for iPhone</td>\n",
       "      <td>51 Million American to travel this weekend - h...</td>\n",
       "      <td>11-22-2017 21:25:11</td>\n",
       "      <td>6752.0</td>\n",
       "      <td>36883</td>\n",
       "      <td>false</td>\n",
       "      <td>9.334463e+17</td>\n",
       "    </tr>\n",
       "    <tr>\n",
       "      <th>3</th>\n",
       "      <td>Twitter for iPhone</td>\n",
       "      <td>RT @FLOTUS: Preparations are underway to celeb...</td>\n",
       "      <td>11-22-2017 21:14:41</td>\n",
       "      <td>8428.0</td>\n",
       "      <td>0</td>\n",
       "      <td>true</td>\n",
       "      <td>9.334436e+17</td>\n",
       "    </tr>\n",
       "    <tr>\n",
       "      <th>4</th>\n",
       "      <td>Twitter for iPhone</td>\n",
       "      <td>The @USNavy is conducting search and rescue fo...</td>\n",
       "      <td>11-22-2017 13:00:38</td>\n",
       "      <td>9524.0</td>\n",
       "      <td>41184</td>\n",
       "      <td>false</td>\n",
       "      <td>9.333193e+17</td>\n",
       "    </tr>\n",
       "  </tbody>\n",
       "</table>\n",
       "</div>"
      ],
      "text/plain": [
       "               source                                               text  \\\n",
       "0  Twitter for iPhone  ....And it will get even better with Tax Cuts!...   \n",
       "1  Twitter for iPhone  I have long given the order to help Argentina ...   \n",
       "2  Twitter for iPhone  51 Million American to travel this weekend - h...   \n",
       "3  Twitter for iPhone  RT @FLOTUS: Preparations are underway to celeb...   \n",
       "4  Twitter for iPhone  The @USNavy is conducting search and rescue fo...   \n",
       "\n",
       "            created_at  retweet_count favorite_count is_retweet        id_str  \n",
       "0  11-23-2017 02:06:57         2625.0          11950      false  9.335172e+17  \n",
       "1  11-22-2017 21:32:18        15740.0          68777      false  9.334481e+17  \n",
       "2  11-22-2017 21:25:11         6752.0          36883      false  9.334463e+17  \n",
       "3  11-22-2017 21:14:41         8428.0              0       true  9.334436e+17  \n",
       "4  11-22-2017 13:00:38         9524.0          41184      false  9.333193e+17  "
      ]
     },
     "execution_count": 5,
     "metadata": {},
     "output_type": "execute_result"
    }
   ],
   "source": [
    "tweets.head()"
   ]
  },
  {
   "cell_type": "code",
   "execution_count": null,
   "metadata": {},
   "outputs": [],
   "source": []
  }
 ],
 "metadata": {
  "kernelspec": {
   "display_name": "Python 3",
   "language": "python",
   "name": "python3"
  },
  "language_info": {
   "codemirror_mode": {
    "name": "ipython",
    "version": 3
   },
   "file_extension": ".py",
   "mimetype": "text/x-python",
   "name": "python",
   "nbconvert_exporter": "python",
   "pygments_lexer": "ipython3",
   "version": "3.6.3"
  }
 },
 "nbformat": 4,
 "nbformat_minor": 2
}
